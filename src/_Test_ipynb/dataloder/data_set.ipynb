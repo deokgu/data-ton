{
 "cells": [
  {
   "cell_type": "code",
   "execution_count": 1,
   "metadata": {},
   "outputs": [],
   "source": [
    "import os\n",
    "import numpy as np\n",
    "import pandas as pd\n",
    "from PIL import Image\n",
    "from tqdm.auto import tqdm\n",
    "import torch\n",
    "from torch.utils.data import Dataset"
   ]
  },
  {
   "cell_type": "code",
   "execution_count": 2,
   "metadata": {},
   "outputs": [],
   "source": [
    "data_dir = \"/opt/ml/test/\"\n",
    "data_dic = {}"
   ]
  },
  {
   "cell_type": "code",
   "execution_count": 4,
   "metadata": {},
   "outputs": [],
   "source": [
    "# fold_list = [\"cyto_negative\", \"cyto_negativ_test\", \"cyto_positive\", \"cyto_positive_test\"]\n",
    "test_list = [\"image\", \"image2\",]\n",
    "val_list = [\"image_test\", \"image2_test\"]\n",
    "\n",
    "fold_lists = test_list if True else val_list\n",
    "_count = 0\n",
    "for fold in fold_lists:\n",
    "    for (path, dir, files) in os.walk(os.path.join(data_dir, fold)):\n",
    "        for filename in files:\n",
    "            if filename[0] == \".\": # not in: pass\n",
    "                continue\n",
    "            folder = os.path.split(path)[-1]\n",
    "            if folder[0] == \".\":\n",
    "                continue\n",
    "            \n",
    "            image_path = os.path.join(path, filename)\n",
    "            if fold == \"image\":\n",
    "                label = 1\n",
    "            else:\n",
    "                label = 0\n",
    "\n",
    "            data_dic[_count] = {\"path\": image_path, \"image\":None, \"label\":label}\n",
    "            _count += 1\n"
   ]
  },
  {
   "cell_type": "code",
   "execution_count": 5,
   "metadata": {},
   "outputs": [
    {
     "data": {
      "text/plain": [
       "{0: {'path': '/opt/ml/test/image/mask2.jpg', 'image': None, 'label': 1},\n",
       " 1: {'path': '/opt/ml/test/image/mask4.jpg', 'image': None, 'label': 1},\n",
       " 2: {'path': '/opt/ml/test/image/mask1.jpg', 'image': None, 'label': 1},\n",
       " 3: {'path': '/opt/ml/test/image/mask3.jpg', 'image': None, 'label': 1},\n",
       " 4: {'path': '/opt/ml/test/image/normal.jpg', 'image': None, 'label': 1},\n",
       " 5: {'path': '/opt/ml/test/image/mask5.jpg', 'image': None, 'label': 1},\n",
       " 6: {'path': '/opt/ml/test/image/incorrect_mask.jpg',\n",
       "  'image': None,\n",
       "  'label': 1},\n",
       " 7: {'path': '/opt/ml/test/image2/mask2.jpg', 'image': None, 'label': 0},\n",
       " 8: {'path': '/opt/ml/test/image2/mask4.jpg', 'image': None, 'label': 0},\n",
       " 9: {'path': '/opt/ml/test/image2/mask1.jpg', 'image': None, 'label': 0},\n",
       " 10: {'path': '/opt/ml/test/image2/mask3.jpg', 'image': None, 'label': 0},\n",
       " 11: {'path': '/opt/ml/test/image2/normal.jpg', 'image': None, 'label': 0},\n",
       " 12: {'path': '/opt/ml/test/image2/mask5.jpg', 'image': None, 'label': 0},\n",
       " 13: {'path': '/opt/ml/test/image2/incorrect_mask.jpg',\n",
       "  'image': None,\n",
       "  'label': 0}}"
      ]
     },
     "execution_count": 5,
     "metadata": {},
     "output_type": "execute_result"
    }
   ],
   "source": [
    "data_dic"
   ]
  },
  {
   "cell_type": "code",
   "execution_count": 6,
   "metadata": {},
   "outputs": [
    {
     "ename": "SyntaxError",
     "evalue": "invalid syntax (319895543.py, line 13)",
     "output_type": "error",
     "traceback": [
      "\u001b[0;36m  File \u001b[0;32m\"/tmp/ipykernel_50384/319895543.py\"\u001b[0;36m, line \u001b[0;32m13\u001b[0m\n\u001b[0;31m    fold_lists = test_list if True if self.mode == \"test\" else False else val_list\u001b[0m\n\u001b[0m                                   ^\u001b[0m\n\u001b[0;31mSyntaxError\u001b[0m\u001b[0;31m:\u001b[0m invalid syntax\n"
     ]
    }
   ],
   "source": [
    "class DataToneDataset(Dataset):\n",
    "    def __init__(self, data_dir, mode = \"train\", transform=None):\n",
    "        self.mode = mode \n",
    "        self.is_tarin = True if self.mode == \"train\" else False\n",
    "        self.data_dic = {}\n",
    "        self.__ratio = 1\n",
    "\n",
    "        self.set_data()\n",
    "    \n",
    "    def set_data(self,):\n",
    "        test_list = [\"image\", \"image2\",]\n",
    "        val_list = [\"image_test\", \"image2_test\"]\n",
    "\n",
    "        fold_lists = test_list if self.if_train else val_list\n",
    "        _count = 0\n",
    "        for fold in fold_lists:\n",
    "            for (path, dir, files) in os.walk(os.path.join(data_dir, fold)):\n",
    "                for filename in files:\n",
    "                    if filename[0] == \".\": # not in: pass\n",
    "                        continue\n",
    "                    folder = os.path.split(path)[-1]\n",
    "                    if folder[0] == \".\":\n",
    "                        continue\n",
    "                    \n",
    "                    image_path = os.path.join(path, filename)\n",
    "                    if fold == \"image\":\n",
    "                        label = 1\n",
    "                    else:\n",
    "                        label = 0\n",
    "\n",
    "                    data_dic[_count] = {\"path\": image_path, \"image\":None, \"label\":label}\n",
    "                    _count += 1\n",
    "\n",
    "    def __getitem__(self, index):\n",
    "        if self.data_dic[index][\"image\"]== None :\n",
    "            _image = Image.open(self.data_dic[index][\"path\"])\n",
    "            self.data_dic[index][\"image\"]= _image\n",
    "        else:\n",
    "            _image = self.data_dic[index][\"image\"]  # Image.open\n",
    "\n",
    "        if self.mode == \"train\":\n",
    "            image_transform = self.transform[\"train\"](_image)\n",
    "        elif self.mode == \"val\":\n",
    "            image_transform = self.transform[\"val\"](_image)\n",
    "        return image_transform, torch.tensor(self.data_dic[index][\"label\"])\n",
    "\n",
    "    @property\n",
    "    def ratio(self,):\n",
    "        return self.__ratio\n",
    "    @ratio.setter\n",
    "    def ratio(self, ratio):\n",
    "        self.__ratio =  ratio\n",
    "\n",
    "    def __len__(self):\n",
    "        return int(len(self.data_dic)* self.__ratio)      "
   ]
  },
  {
   "cell_type": "markdown",
   "metadata": {},
   "source": []
  }
 ],
 "metadata": {
  "interpreter": {
   "hash": "d4d1e4263499bec80672ea0156c357c1ee493ec2b1c70f0acce89fc37c4a6abe"
  },
  "kernelspec": {
   "display_name": "Python 3.8.5 64-bit ('base': conda)",
   "language": "python",
   "name": "python3"
  },
  "language_info": {
   "codemirror_mode": {
    "name": "ipython",
    "version": 3
   },
   "file_extension": ".py",
   "mimetype": "text/x-python",
   "name": "python",
   "nbconvert_exporter": "python",
   "pygments_lexer": "ipython3",
   "version": "3.8.5"
  },
  "orig_nbformat": 4
 },
 "nbformat": 4,
 "nbformat_minor": 2
}
