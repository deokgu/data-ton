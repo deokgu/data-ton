{
 "cells": [
  {
   "cell_type": "code",
   "execution_count": 9,
   "metadata": {},
   "outputs": [],
   "source": [
    "from torch.utils.data import DataLoader\n",
    "from sklearn.model_selection import KFold, StratifiedKFold"
   ]
  },
  {
   "cell_type": "code",
   "execution_count": 5,
   "metadata": {},
   "outputs": [],
   "source": [
    "import os\n",
    "import numpy as np\n",
    "import pandas as pd\n",
    "from PIL import Image\n",
    "from tqdm.auto import tqdm\n",
    "import torch\n",
    "from torch.utils.data import Dataset\n",
    "\n",
    "class DataToneDataset(Dataset):\n",
    "    def __init__(self, data_dir, mode = \"train\", transform=None):\n",
    "        self.mode = mode \n",
    "        self.data_dir = data_dir\n",
    "        self.is_tarin = True if mode == \"train\" else False\n",
    "        self.data_dic = {}\n",
    "        self.__ratio = 1\n",
    "        self.transform = None \n",
    "        self.labels = []\n",
    "        self.set_data()\n",
    "    \n",
    "    def set_data(self,):\n",
    "        # fold_list = [\"cyto_negative\", \"cyto_negativ_test\", \"cyto_positive\", \"cyto_positive_test\"]\n",
    "        train_list = [\"cyto_positive\", \"cyto_negative\", \"cyto_positive_test\", \"cyto_negative_test\"]\n",
    "        # train_list = [\"cyto_positive\", \"cyto_negative\"]\n",
    "        val_list = [\"cyto_positive_test\", \"cyto_negative_test\"]\n",
    "\n",
    "        fold_lists = train_list if self.is_tarin else val_list\n",
    "        _count = 0\n",
    "        for fold in fold_lists:\n",
    "            for (path, dir, files) in os.walk(os.path.join(self.data_dir, fold)):\n",
    "                for filename in files:\n",
    "                    if filename[0] == \".\": # not in: pass\n",
    "                        continue\n",
    "                    folder = os.path.split(path)[-1]\n",
    "                    if folder[0] == \".\":\n",
    "                        continue\n",
    "                    \n",
    "                    image_path = os.path.join(path, filename)\n",
    "                    if fold in \"cyto_positive\" or fold in \"cyto_positive_test\":\n",
    "                        label = 1\n",
    "                        self.labels.append(1)\n",
    "                    else:\n",
    "                        label = 0\n",
    "                        self.labels.append(0)\n",
    "\n",
    "                    self.data_dic[_count] = {\"path\": image_path, \"image\":None, \"label\":label}\n",
    "                    _count += 1\n",
    "\n",
    "    def set_transforms(self, transform):\n",
    "        \"\"\"\n",
    "        transform 함수를 설정하는 함수입니다.\n",
    "        \"\"\"\n",
    "        self.transform = transform\n",
    "\n",
    "    def __getitem__(self, index):\n",
    "        # print(self.data_dic[index])\n",
    "        if self.data_dic[index][\"image\"]== None :\n",
    "            _image = Image.open(self.data_dic[index][\"path\"])\n",
    "            self.data_dic[index][\"image\"]= _image\n",
    "        else:\n",
    "            _image = self.data_dic[index][\"image\"]  # Image.open\n",
    "\n",
    "        if self.mode == \"train\":\n",
    "            # image_transform = self.transform[\"train\"](_image)\n",
    "            image_transform = self.transform[\"train\"](image=np.array(_image))['image']\n",
    "\n",
    "        elif self.mode == \"val\":\n",
    "            # image_transform = self.transform[\"val\"](_image)\n",
    "            image_transform = self.transform[\"val\"](image=np.array(_image))['image']\n",
    "\n",
    "        return image_transform, torch.tensor(self.data_dic[index][\"label\"])\n",
    "\n",
    "    @property\n",
    "    def ratio(self,):\n",
    "        return self.__ratio\n",
    "    @ratio.setter\n",
    "    def ratio(self, ratio):\n",
    "        self.__ratio =  ratio\n",
    "\n",
    "    def __len__(self):\n",
    "        return int(len(self.data_dic)* self.__ratio)      "
   ]
  },
  {
   "cell_type": "code",
   "execution_count": 6,
   "metadata": {},
   "outputs": [],
   "source": [
    "train_dataset = DataToneDataset(\"/home/ec2-user/dataset/b-trac-cyto\")"
   ]
  },
  {
   "cell_type": "code",
   "execution_count": 8,
   "metadata": {},
   "outputs": [],
   "source": [
    "train_loader = DataLoader(train_dataset,\n",
    "                    batch_size=32,\n",
    "                    shuffle=True,\n",
    "                    num_workers=1,\n",
    "                    drop_last=True \n",
    "                )"
   ]
  },
  {
   "cell_type": "code",
   "execution_count": 10,
   "metadata": {},
   "outputs": [],
   "source": [
    "mskf = StratifiedKFold(n_splits=5, shuffle=True, random_state=2019)\n"
   ]
  },
  {
   "cell_type": "code",
   "execution_count": 23,
   "metadata": {},
   "outputs": [
    {
     "name": "stdout",
     "output_type": "stream",
     "text": [
      "0\n",
      "True\n",
      "0\n",
      "True\n",
      "0\n",
      "True\n",
      "0\n",
      "True\n",
      "0\n",
      "True\n"
     ]
    }
   ],
   "source": [
    "\n",
    "for kfold, (train_index, validate_index) in enumerate(mskf.split(train_dataset, train_dataset.labels)):\n",
    "    print(np.sum(pd.DataFrame(train_index)[0].isin(pd.DataFrame(validate_index)[0])))\n",
    "\n",
    "    print(set(range(10000)) - set(train_index) == set(validate_index))\n"
   ]
  },
  {
   "cell_type": "code",
   "execution_count": null,
   "metadata": {},
   "outputs": [],
   "source": []
  }
 ],
 "metadata": {
  "interpreter": {
   "hash": "31f2aee4e71d21fbe5cf8b01ff0e069b9275f58929596ceb00d14d90e3e16cd6"
  },
  "kernelspec": {
   "display_name": "Python 3.7.10 64-bit",
   "language": "python",
   "name": "python3"
  },
  "language_info": {
   "codemirror_mode": {
    "name": "ipython",
    "version": 3
   },
   "file_extension": ".py",
   "mimetype": "text/x-python",
   "name": "python",
   "nbconvert_exporter": "python",
   "pygments_lexer": "ipython3",
   "version": "3.7.10"
  },
  "orig_nbformat": 4
 },
 "nbformat": 4,
 "nbformat_minor": 2
}
