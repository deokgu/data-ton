{
 "cells": [
  {
   "cell_type": "code",
   "execution_count": 3,
   "metadata": {},
   "outputs": [],
   "source": [
    "import torch\n",
    "from torch.utils.data import DataLoader\n",
    "from tqdm import tqdm\n",
    "import data_loader.data_loaders as module_data\n",
    "import model.model as module_arch\n",
    "from parse_config import ConfigParser\n",
    "\n",
    "import model.model as module_net\n",
    "import optimizer.metric as module_metric\n",
    "import data_loader.data_sets as module_data_set"
   ]
  },
  {
   "cell_type": "code",
   "execution_count": null,
   "metadata": {},
   "outputs": [],
   "source": []
  },
  {
   "cell_type": "code",
   "execution_count": null,
   "metadata": {},
   "outputs": [],
   "source": [
    "data_set = config.init_obj(\"data_set\", module_data_set)\n",
    "if config[\"debug\"][\"set_debug\"]:\n",
    "    data_set.ratio = config[\"debug\"][\"ratio\"]\n",
    "    valid_data_loader = DataLoader(data_set,\n",
    "                batch_size= config[\"batch_size\"],\n",
    "                shuffle= config[\"shuffle\"],\n",
    "                num_workers= config[\"num_workers\"],\n",
    "                drop_last=True \n",
    "            )"
   ]
  }
 ],
 "metadata": {
  "interpreter": {
   "hash": "8fccad8eaccd23c07e706fa8e19d24ff3295f5f40164106f37fb0cc880fc41f2"
  },
  "kernelspec": {
   "display_name": "Python 3.7.10 64-bit ('pytorch_p37': conda)",
   "language": "python",
   "name": "python3"
  },
  "language_info": {
   "codemirror_mode": {
    "name": "ipython",
    "version": 3
   },
   "file_extension": ".py",
   "mimetype": "text/x-python",
   "name": "python",
   "nbconvert_exporter": "python",
   "pygments_lexer": "ipython3",
   "version": "3.7.10"
  },
  "orig_nbformat": 4
 },
 "nbformat": 4,
 "nbformat_minor": 2
}
